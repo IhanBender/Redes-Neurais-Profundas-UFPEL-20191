{
 "cells": [
  {
   "cell_type": "markdown",
   "metadata": {},
   "source": [
    ".# Objetivos deste trabalho:\n",
    "- Se familiarizar com o ambiente Notebook e com Python\n",
    "- Implementar um perceptron simples, treiná-lo no conjunto de TREINO do CIFAR-10 e avaliá-lo no conjunto de TESTE (alvo: distinguir fotos de animais de meios de transporte)\n",
    "- Utilizar a função sigmóide e verificar seu efeito no treinamento e na avaliação\n",
    "- Modificar a metodologia para classificar cada classe individualmente (i.e. treinar 10 perceptrons, um para cada classe). Considerar: dado um exemplo, que passará por cada perceptron, como decidir qual é a classe dele?"
   ]
  },
  {
   "cell_type": "code",
   "execution_count": 1,
   "metadata": {},
   "outputs": [
    {
     "data": {
      "text/plain": [
       "{'divide': 'warn', 'over': 'warn', 'under': 'ignore', 'invalid': 'warn'}"
      ]
     },
     "execution_count": 1,
     "metadata": {},
     "output_type": "execute_result"
    }
   ],
   "source": [
    "%matplotlib inline\n",
    "\n",
    "import torch\n",
    "import torchvision\n",
    "import numpy as np\n",
    "\n",
    "np.seterr(all='raise')"
   ]
  },
  {
   "cell_type": "code",
   "execution_count": 2,
   "metadata": {},
   "outputs": [
    {
     "name": "stdout",
     "output_type": "stream",
     "text": [
      "Files already downloaded and verified\n",
      "Files already downloaded and verified\n"
     ]
    }
   ],
   "source": [
    "# Carregar os datasets\n",
    "\n",
    "dataset_train = torchvision.datasets.CIFAR10(root='./data', train=True,\n",
    "                                        download=True)\n",
    "\n",
    "dataset_test = torchvision.datasets.CIFAR10(root='./data', train=False,\n",
    "                                        download=True)"
   ]
  },
  {
   "cell_type": "code",
   "execution_count": 3,
   "metadata": {},
   "outputs": [],
   "source": [
    "classes = ('plane', 'car', 'bird', 'cat',\n",
    "           'deer', 'dog', 'frog', 'horse', 'ship', 'truck')"
   ]
  },
  {
   "cell_type": "code",
   "execution_count": 4,
   "metadata": {},
   "outputs": [
    {
     "name": "stdout",
     "output_type": "stream",
     "text": [
      "50000 10000\n"
     ]
    }
   ],
   "source": [
    "print(len(dataset_train), len(dataset_test))"
   ]
  },
  {
   "cell_type": "code",
   "execution_count": 5,
   "metadata": {},
   "outputs": [],
   "source": [
    "# Converter para tons de cinza\n",
    "\n",
    "# Treino\n",
    "grayscale_dataset_train = []\n",
    "for img,label in dataset_train:\n",
    "    category = classes[label]\n",
    "    gray_npimg = np.array(img.convert('L'))\n",
    "    grayscale_dataset_train.append((gray_npimg,category))\n",
    "    \n",
    "# Teste\n",
    "grayscale_dataset_test = []\n",
    "for img,label in dataset_test:\n",
    "    category = classes[label]\n",
    "    gray_npimg = np.array(img.convert('L'))\n",
    "    grayscale_dataset_test.append((gray_npimg,category))    "
   ]
  },
  {
   "cell_type": "code",
   "execution_count": 6,
   "metadata": {},
   "outputs": [
    {
     "data": {
      "image/png": "[encoded data removed]",
      "text/plain": [
       "<Figure size 432x288 with 1 Axes>"
      ]
     },
     "metadata": {
      "needs_background": "light"
     },
     "output_type": "display_data"
    }
   ],
   "source": [
    "# Mostrar uma imagem\n",
    "\n",
    "import matplotlib.pyplot as plt\n",
    "import numpy as np\n",
    "\n",
    "image_index = 1\n",
    "label = grayscale_dataset_train[image_index][1]\n",
    "npimg = grayscale_dataset_train[image_index][0]\n",
    "\n",
    "plt.imshow(npimg, cmap='gray')\n",
    "plt.title(label)\n",
    "plt.show()"
   ]
  },
  {
   "cell_type": "code",
   "execution_count": 7,
   "metadata": {},
   "outputs": [],
   "source": [
    "# Converter para vetores 1D\n",
    "\n",
    "# Para pensar: por que a divisão por 255 no código abaixo?\n",
    "\n",
    "# A divisão por 255 (maior valor possível que cada pixel em tom de cinza alcança)\n",
    "# ocorre para \"normalizar os valores\". Valores muito altos poderiam causar problemas\n",
    "# à rede, ou até erros de overflow  nas iterações iniciais, além de exigir que os pesos\n",
    "# dos perceptrons sejam extremamente precisos em pequena escala, podendo impedir a\n",
    "# melhoria do modelo por falta de capacidade de representação\n",
    "\n",
    "linear_dataset_train = []\n",
    "target_labels = ('plane', 'car', 'ship', 'truck')\n",
    "for img,category in grayscale_dataset_train:\n",
    "    linear_img = img.reshape(img.shape[0]*img.shape[1],1) / 255\n",
    "    if category in target_labels:\n",
    "        label = 1\n",
    "    else:\n",
    "        label = 0\n",
    "    linear_dataset_train.append((linear_img,label))\n",
    "    \n",
    "linear_dataset_test = []\n",
    "target_labels = ('plane', 'car', 'ship', 'truck')\n",
    "for img,category in grayscale_dataset_test:\n",
    "    linear_img = img.reshape(img.shape[0]*img.shape[1],1) / 255\n",
    "    if category in target_labels:\n",
    "        label = 1\n",
    "    else:\n",
    "        label = 0\n",
    "    linear_dataset_test.append((linear_img,label))   \n",
    "    \n"
   ]
  },
  {
   "cell_type": "code",
   "execution_count": 8,
   "metadata": {},
   "outputs": [
    {
     "name": "stdout",
     "output_type": "stream",
     "text": [
      "1024\n"
     ]
    }
   ],
   "source": [
    "size = len(linear_dataset_train[0][0])\n",
    "print(size)"
   ]
  },
  {
   "cell_type": "markdown",
   "metadata": {},
   "source": [
    "# Definindo o perceptron"
   ]
  },
  {
   "cell_type": "code",
   "execution_count": 9,
   "metadata": {},
   "outputs": [],
   "source": [
    "def sigmoid(x):\n",
    "    return 1/(1+np.exp(-x))\n",
    "\n",
    "def perceptron(inputs, weights):\n",
    "    o = inputs.dot(weights)\n",
    "    y = sigmoid(o)\n",
    "    return (o, y)"
   ]
  },
  {
   "cell_type": "markdown",
   "metadata": {},
   "source": [
    "# Treinando o perceptron"
   ]
  },
  {
   "cell_type": "code",
   "execution_count": 10,
   "metadata": {},
   "outputs": [],
   "source": [
    "def sigmoid_derivate(x):\n",
    "    y = sigmoid(x)\n",
    "    return y*(1-y)\n",
    "\n",
    "def error(target, pred):\n",
    "    return target - pred\n",
    "\n",
    "def degrau(x, threshold):\n",
    "    if x > threshold:\n",
    "        return 1\n",
    "    return 0\n",
    "\n",
    "def evaluate(weights, dataset):\n",
    "    # Defina a métrica de avaliação do perceptron aqui (e.g. acurácia)\n",
    "    mse,tp,tn,fp,fn = 0,0,0,0,0\n",
    "    for img,label in dataset:\n",
    "        inputs = np.append(img, [1])\n",
    "        o, y = perceptron(inputs, weights)\n",
    "        \n",
    "        mse += (label-y)**2\n",
    "        result = degrau(y, 0.5)\n",
    "        if result == 1:\n",
    "            if label == 1: tp+=1\n",
    "            else: fp+=1\n",
    "        else: \n",
    "            if label == 1: fn+=1\n",
    "            else: tn+=1        \n",
    "\n",
    "    mse = mse/len(dataset)\n",
    "    sensibilidade = tp/(tp+fn)\n",
    "    especificidade = tn/(tn+fp)\n",
    "    acuracia = (tp+tn)/len(dataset)\n",
    "    \n",
    "    return mse, sensibilidade, especificidade, acuracia\n"
   ]
  },
  {
   "cell_type": "code",
   "execution_count": 11,
   "metadata": {
    "scrolled": true
   },
   "outputs": [
    {
     "name": "stdout",
     "output_type": "stream",
     "text": [
      "MSE at epoch 0: 0.2279798454933491\n",
      "MSE at epoch 1: 0.21883346788012153\n",
      "MSE at epoch 2: 0.21326305903262374\n",
      "MSE at epoch 3: 0.20942617488946147\n",
      "MSE at epoch 4: 0.20657221838597795\n",
      "MSE at epoch 5: 0.20432611677931084\n",
      "MSE at epoch 6: 0.20248607465737278\n",
      "MSE at epoch 7: 0.2009371042987654\n",
      "MSE at epoch 8: 0.1996091639821763\n",
      "MSE at epoch 9: 0.1984562012112407\n",
      "MSE at epoch 10: 0.19744581497789265\n",
      "MSE at epoch 11: 0.19655398232102844\n",
      "MSE at epoch 12: 0.19576216935640953\n",
      "MSE at epoch 13: 0.1950556341948243\n",
      "MSE at epoch 14: 0.19442237518054795\n",
      "MSE at epoch 15: 0.19385245047871746\n",
      "MSE at epoch 16: 0.1933375197990744\n",
      "MSE at epoch 17: 0.19287052280945008\n",
      "MSE at epoch 18: 0.19244544403897015\n",
      "MSE at epoch 19: 0.1920571343251917\n",
      "MSE at epoch 20: 0.1917011706837516\n",
      "MSE at epoch 21: 0.19137374342796287\n",
      "MSE at epoch 22: 0.19107156346590343\n",
      "MSE at epoch 23: 0.19079178513553643\n",
      "MSE at epoch 24: 0.19053194139713364\n",
      "MSE at epoch 25: 0.19028988909394914\n",
      "MSE at epoch 26: 0.19006376255430335\n",
      "MSE at epoch 27: 0.18985193417896523\n",
      "MSE at epoch 28: 0.18965298091586774\n",
      "MSE at epoch 29: 0.18946565571450075\n",
      "MSE at epoch 30: 0.1892888631997565\n",
      "MSE at epoch 31: 0.18912163892409373\n",
      "MSE at epoch 32: 0.18896313165531506\n",
      "MSE at epoch 33: 0.18881258823995187\n",
      "MSE at epoch 34: 0.18866934065248409\n",
      "MSE at epoch 35: 0.18853279490013813\n",
      "MSE at epoch 36: 0.1884024215037737\n",
      "MSE at epoch 37: 0.18827774731826216\n",
      "MSE at epoch 38: 0.18815834849242655\n",
      "MSE at epoch 39: 0.18804384439933325\n",
      "MSE at epoch 40: 0.1879338923939418\n",
      "MSE at epoch 41: 0.18782818327705117\n",
      "MSE at epoch 42: 0.18772643736318384\n",
      "MSE at epoch 43: 0.187628401065525\n",
      "MSE at epoch 44: 0.18753384392440922\n",
      "MSE at epoch 45: 0.18744255601680637\n",
      "MSE at epoch 46: 0.18735434569372364\n",
      "MSE at epoch 47: 0.18726903760030017\n",
      "MSE at epoch 48: 0.18718647094001467\n",
      "MSE at epoch 49: 0.18710649795015444\n",
      "MSE at epoch 50: 0.1870289825602803\n",
      "MSE at epoch 51: 0.18695379920968516\n",
      "MSE at epoch 52: 0.1868808318030535\n",
      "MSE at epoch 53: 0.18680997278659597\n",
      "MSE at epoch 54: 0.18674112232926007\n",
      "MSE at epoch 55: 0.18667418759589688\n",
      "MSE at epoch 56: 0.1866090821008605\n",
      "MSE at epoch 57: 0.18654572513222967\n",
      "MSE at epoch 58: 0.18648404123804987\n",
      "MSE at epoch 59: 0.18642395976714865\n",
      "MSE at epoch 60: 0.18636541445805932\n",
      "MSE at epoch 61: 0.18630834307040361\n",
      "MSE at epoch 62: 0.18625268705382714\n",
      "MSE at epoch 63: 0.1861983912501531\n",
      "MSE at epoch 64: 0.1861454036250252\n",
      "MSE at epoch 65: 0.18609367502568586\n",
      "MSE at epoch 66: 0.1860431589620744\n",
      "MSE at epoch 67: 0.18599381140859597\n",
      "MSE at epoch 68: 0.1859455906243997\n",
      "MSE at epoch 69: 0.1858984569901264\n",
      "MSE at epoch 70: 0.1858523728594428\n",
      "MSE at epoch 71: 0.18580730242374452\n",
      "MSE at epoch 72: 0.18576321158873776\n",
      "MSE at epoch 73: 0.18572006786162906\n",
      "MSE at epoch 74: 0.18567784024788841\n",
      "MSE at epoch 75: 0.1856364991565873\n",
      "MSE at epoch 76: 0.18559601631353517\n",
      "MSE at epoch 77: 0.1855563646813744\n",
      "MSE at epoch 78: 0.1855175183860263\n",
      "MSE at epoch 79: 0.1854794526488419\n",
      "MSE at epoch 80: 0.18544214372397272\n",
      "MSE at epoch 81: 0.18540556884039458\n",
      "MSE at epoch 82: 0.18536970614826223\n",
      "MSE at epoch 83: 0.18533453466911318\n",
      "MSE at epoch 84: 0.18530003424965513\n",
      "MSE at epoch 85: 0.18526618551872798\n",
      "MSE at epoch 86: 0.18523296984728985\n",
      "MSE at epoch 87: 0.1852003693110466\n",
      "MSE at epoch 88: 0.18516836665557468\n",
      "MSE at epoch 89: 0.18513694526373234\n",
      "MSE at epoch 90: 0.18510608912510612\n",
      "MSE at epoch 91: 0.18507578280741854\n",
      "MSE at epoch 92: 0.18504601142967847\n",
      "MSE at epoch 93: 0.18501676063696096\n",
      "MSE at epoch 94: 0.1849880165766705\n",
      "MSE at epoch 95: 0.18495976587622853\n",
      "MSE at epoch 96: 0.18493199562200835\n",
      "MSE at epoch 97: 0.18490469333947995\n",
      "MSE at epoch 98: 0.18487784697444237\n",
      "MSE at epoch 99: 0.18485144487530794\n"
     ]
    }
   ],
   "source": [
    "# Inicialização\n",
    "weights = (np.random.rand(1,size) - 0.5)[0]\n",
    "bias = (np.random.rand(1) - 0.5) \n",
    "weights = np.append(weights, bias) \n",
    "neta = 0.001\n",
    "\n",
    "# Implemente o treino aqui (para separar as duas classes definidas)\n",
    "mses = []\n",
    "sensibilidades = []\n",
    "especificidades = []\n",
    "for epoch in range(100):\n",
    "    # Shuffle em toda época (Treino estocástico)\n",
    "    np.random.shuffle(linear_dataset_train)\n",
    "    \n",
    "    for img, label in linear_dataset_train:\n",
    "        inputs = np.append(img, [1])\n",
    "        o, y = perceptron(inputs, weights)\n",
    "        loss = neta * error(label, y) * inputs * sigmoid_derivate(o)\n",
    "        weights += loss\n",
    "        \n",
    "    mse, sense, espec, acuracia = evaluate(weights, linear_dataset_train)\n",
    "    mses.append(mse)\n",
    "    sensibilidades.append(sense)\n",
    "    especificidades.append(espec)\n",
    "    print(\"MSE at epoch \" + str(epoch) + \": \" + str(mse))\n",
    "    "
   ]
  },
  {
   "cell_type": "code",
   "execution_count": 12,
   "metadata": {},
   "outputs": [
    {
     "name": "stdout",
     "output_type": "stream",
     "text": [
      "Train:\n",
      "MSE, Sensibilidade, Especificidade, Acurácia:\n",
      "0.18485144487530794 0.5667 0.8484 0.73572\n",
      "\n",
      "Test:\n",
      "MSE, Sensibilidade, Especificidade, Acurácia:\n",
      "0.1904492496183 0.5615 0.8366666666666667 0.7266\n"
     ]
    }
   ],
   "source": [
    "# Avalie o modelo treinado aqui\n",
    "# Como a acurácia no conjunto de teste se compara com a acurácia obtida no conjunto de treino?\n",
    "mse, sense, espec, acuracia = evaluate(weights, linear_dataset_train)\n",
    "print(\"Train:\")\n",
    "print(\"MSE, Sensibilidade, Especificidade, Acurácia:\")\n",
    "print(mse, sense, espec, acuracia)\n",
    "print()\n",
    "\n",
    "mse, sense, espec, acuracia = evaluate(weights, linear_dataset_test)\n",
    "print(\"Test:\")\n",
    "print(\"MSE, Sensibilidade, Especificidade, Acurácia:\")\n",
    "print(mse, sense, espec, acuracia)\n"
   ]
  },
  {
   "cell_type": "code",
   "execution_count": 13,
   "metadata": {},
   "outputs": [
    {
     "data": {
      "image/png": "[encoded data removed]",
      "text/plain": [
       "<Figure size 432x288 with 1 Axes>"
      ]
     },
     "metadata": {
      "needs_background": "light"
     },
     "output_type": "display_data"
    }
   ],
   "source": [
    "# Caso queiram plotar alguma coisa\n",
    "\n",
    "import matplotlib.pyplot as plt\n",
    "plt.title(\"MSE durante o Treinamento\")\n",
    "_ = plt.plot(mses)\n"
   ]
  },
  {
   "cell_type": "markdown",
   "metadata": {},
   "source": [
    "# Classificando classes individuais\n",
    "\n",
    "Implemente aqui a modificação do processo de avaliação e treinamento para poder classificar cada classe individualmente.\n",
    "\n",
    "- Ideia geral: treinar um perceptron por classe (exemplo positivo = exemplos da classe; exemplos negativos = exemplo de todas outras classes)\n",
    "- Dado um exemplo qualquer, como decidir qual perceptron está dando a classe correta?"
   ]
  },
  {
   "cell_type": "code",
   "execution_count": 24,
   "metadata": {},
   "outputs": [],
   "source": [
    "def preprocess(dataset, target_labels):\n",
    "    linear_dataset = []\n",
    "    for img,category in dataset:\n",
    "        linear_img = img.reshape(img.shape[0]*img.shape[1],1) / 255\n",
    "        if category in target_labels:\n",
    "            label = 1\n",
    "        else:\n",
    "            label = 0\n",
    "        linear_dataset.append((linear_img,label))\n",
    "        \n",
    "    return linear_dataset"
   ]
  },
  {
   "cell_type": "code",
   "execution_count": null,
   "metadata": {},
   "outputs": [
    {
     "name": "stdout",
     "output_type": "stream",
     "text": [
      "Training perceptron for label: 1\n"
     ]
    },
    {
     "data": {
      "image/png": "[encoded data removed]",
      "text/plain": [
       "<Figure size 432x288 with 1 Axes>"
      ]
     },
     "metadata": {
      "needs_background": "light"
     },
     "output_type": "display_data"
    },
    {
     "name": "stdout",
     "output_type": "stream",
     "text": [
      "Training perceptron for label: 0\n"
     ]
    }
   ],
   "source": [
    "#grayscale_dataset_test = []\n",
    "\n",
    "models = []\n",
    "for target_label in classes:\n",
    "    linear_dataset_train = preprocess(grayscale_dataset_train, [target_label])\n",
    "    linear_dataset_test = preprocess(grayscale_dataset_test, [target_label])\n",
    "    \n",
    "    weights = (np.random.rand(1,size) - 0.5)[0]\n",
    "    bias = (np.random.rand(1) - 0.5) \n",
    "    weights = np.append(weights, bias) \n",
    "    neta = 0.001\n",
    "    \n",
    "    mses = []\n",
    "    acuracias = []\n",
    "    print(\"Training perceptron for label:\", target_label)\n",
    "    for epoch in range(5):\n",
    "        # Embaralha para cada iteração, por usar treino estocástico\n",
    "        np.random.shuffle(linear_dataset_train)\n",
    "        \n",
    "        for img, label in linear_dataset_train:\n",
    "            inputs = np.append(img, [1])\n",
    "            o, y = perceptron(inputs, weights)\n",
    "            loss = neta * error(label, y) * inputs * sigmoid_derivate(o)\n",
    "            weights += loss\n",
    "\n",
    "        mse, _, _, acuracia = evaluate(weights, linear_dataset_train)\n",
    "        mses.append(mse)\n",
    "        acuracias.append(acuracia)\n",
    "    \n",
    "    models.append((weights, label))\n",
    "    \n",
    "    plt.title(\"Resultados do treinamento para \" + target_label)\n",
    "    _ = plt.plot(mses, label=\"MSE\")\n",
    "    _ = plt.plot(acuracias, label=\"Acurácia\")\n",
    "    plt.show()"
   ]
  },
  {
   "cell_type": "code",
   "execution_count": null,
   "metadata": {},
   "outputs": [],
   "source": []
  }
 ],
 "metadata": {
  "kernelspec": {
   "display_name": "Python 3",
   "language": "python",
   "name": "python3"
  },
  "language_info": {
   "codemirror_mode": {
    "name": "ipython",
    "version": 3
   },
   "file_extension": ".py",
   "mimetype": "text/x-python",
   "name": "python",
   "nbconvert_exporter": "python",
   "pygments_lexer": "ipython3",
   "version": "3.7.1"
  }
 },
 "nbformat": 4,
 "nbformat_minor": 2
}
