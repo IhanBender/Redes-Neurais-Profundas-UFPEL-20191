{
 "cells": [
  {
   "cell_type": "markdown",
   "metadata": {},
   "source": [
    ".# Objetivos deste trabalho:\n",
    "- Se familiarizar com o ambiente Notebook e com Python\n",
    "- Implementar um perceptron simples, treiná-lo no conjunto de TREINO do CIFAR-10 e avaliá-lo no conjunto de TESTE (alvo: distinguir fotos de animais de meios de transporte)\n",
    "- Utilizar a função sigmóide e verificar seu efeito no treinamento e na avaliação\n",
    "- Modificar a metodologia para classificar cada classe individualmente (i.e. treinar 10 perceptrons, um para cada classe). Considerar: dado um exemplo, que passará por cada perceptron, como decidir qual é a classe dele?"
   ]
  },
  {
   "cell_type": "code",
   "execution_count": 1,
   "metadata": {},
   "outputs": [
    {
     "data": {
      "text/plain": [
       "{'divide': 'warn', 'over': 'warn', 'under': 'ignore', 'invalid': 'warn'}"
      ]
     },
     "execution_count": 1,
     "metadata": {},
     "output_type": "execute_result"
    }
   ],
   "source": [
    "%matplotlib inline\n",
    "\n",
    "import torch\n",
    "import torchvision\n",
    "import numpy as np\n",
    "\n",
    "np.seterr(all='raise')"
   ]
  },
  {
   "cell_type": "code",
   "execution_count": 2,
   "metadata": {},
   "outputs": [
    {
     "name": "stdout",
     "output_type": "stream",
     "text": [
      "Files already downloaded and verified\n",
      "Files already downloaded and verified\n"
     ]
    }
   ],
   "source": [
    "# Carregar os datasets\n",
    "\n",
    "dataset_train = torchvision.datasets.CIFAR10(root='./data', train=True,\n",
    "                                        download=True)\n",
    "\n",
    "dataset_test = torchvision.datasets.CIFAR10(root='./data', train=False,\n",
    "                                        download=True)"
   ]
  },
  {
   "cell_type": "code",
   "execution_count": 3,
   "metadata": {},
   "outputs": [],
   "source": [
    "classes = ('plane', 'car', 'bird', 'cat',\n",
    "           'deer', 'dog', 'frog', 'horse', 'ship', 'truck')"
   ]
  },
  {
   "cell_type": "code",
   "execution_count": 4,
   "metadata": {},
   "outputs": [
    {
     "name": "stdout",
     "output_type": "stream",
     "text": [
      "50000 10000\n"
     ]
    }
   ],
   "source": [
    "print(len(dataset_train), len(dataset_test))"
   ]
  },
  {
   "cell_type": "code",
   "execution_count": 5,
   "metadata": {},
   "outputs": [],
   "source": [
    "# Converter para tons de cinza\n",
    "\n",
    "# Treino\n",
    "grayscale_dataset_train = []\n",
    "for img,label in dataset_train:\n",
    "    category = classes[label]\n",
    "    gray_npimg = np.array(img.convert('L'))\n",
    "    grayscale_dataset_train.append((gray_npimg,category))\n",
    "    \n",
    "# Teste\n",
    "grayscale_dataset_test = []\n",
    "for img,label in dataset_test:\n",
    "    category = classes[label]\n",
    "    gray_npimg = np.array(img.convert('L'))\n",
    "    grayscale_dataset_test.append((gray_npimg,category))    "
   ]
  },
  {
   "cell_type": "code",
   "execution_count": 6,
   "metadata": {},
   "outputs": [
    {
     "data": {
      "image/png": "[encoded data removed]",
      "text/plain": [
       "<Figure size 432x288 with 1 Axes>"
      ]
     },
     "metadata": {
      "needs_background": "light"
     },
     "output_type": "display_data"
    }
   ],
   "source": [
    "# Mostrar uma imagem\n",
    "\n",
    "import matplotlib.pyplot as plt\n",
    "import numpy as np\n",
    "\n",
    "image_index = 1\n",
    "label = grayscale_dataset_train[image_index][1]\n",
    "npimg = grayscale_dataset_train[image_index][0]\n",
    "\n",
    "plt.imshow(npimg, cmap='gray')\n",
    "plt.title(label)\n",
    "plt.show()"
   ]
  },
  {
   "cell_type": "code",
   "execution_count": 7,
   "metadata": {},
   "outputs": [],
   "source": [
    "# Converter para vetores 1D\n",
    "\n",
    "# Para pensar: por que a divisão por 255 no código abaixo?\n",
    "\n",
    "# A divisão por 255 (maior valor possível que cada pixel em tom de cinza alcança)\n",
    "# ocorre para \"normalizar os valores\". Valores muito altos poderiam causar problemas\n",
    "# à rede, ou até erros de overflow  nas iterações iniciais, além de exigir que os pesos\n",
    "# dos perceptrons sejam extremamente precisos em pequena escala, podendo impedir a\n",
    "# melhoria do modelo por falta de capacidade de representação\n",
    "\n",
    "linear_dataset_train = []\n",
    "target_labels = ('plane', 'car', 'ship', 'truck')\n",
    "for img,category in grayscale_dataset_train:\n",
    "    linear_img = img.reshape(img.shape[0]*img.shape[1],1) / 255\n",
    "    if category in target_labels:\n",
    "        label = 1\n",
    "    else:\n",
    "        label = 0\n",
    "    linear_dataset_train.append((linear_img,label))\n",
    "    \n",
    "linear_dataset_test = []\n",
    "target_labels = ('plane', 'car', 'ship', 'truck')\n",
    "for img,category in grayscale_dataset_test:\n",
    "    linear_img = img.reshape(img.shape[0]*img.shape[1],1) / 255\n",
    "    if category in target_labels:\n",
    "        label = 1\n",
    "    else:\n",
    "        label = 0\n",
    "    linear_dataset_test.append((linear_img,label))   \n",
    "    \n"
   ]
  },
  {
   "cell_type": "code",
   "execution_count": 8,
   "metadata": {},
   "outputs": [
    {
     "name": "stdout",
     "output_type": "stream",
     "text": [
      "1024\n"
     ]
    }
   ],
   "source": [
    "size = len(linear_dataset_train[0][0])\n",
    "print(size)"
   ]
  },
  {
   "cell_type": "markdown",
   "metadata": {},
   "source": [
    "# Definindo o perceptron"
   ]
  },
  {
   "cell_type": "code",
   "execution_count": 9,
   "metadata": {},
   "outputs": [],
   "source": [
    "def degrau(x, threshold):\n",
    "    if x > threshold:\n",
    "        return 1\n",
    "    return 0\n",
    "\n",
    "def sigmoid(x):\n",
    "    return 1/(1+np.exp(-x))\n",
    "\n",
    "def perceptron(inputs, weights):\n",
    "    o = inputs.dot(weights)\n",
    "    y = sigmoid(o)\n",
    "    return (o, y)"
   ]
  },
  {
   "cell_type": "markdown",
   "metadata": {},
   "source": [
    "# Treinando o perceptron"
   ]
  },
  {
   "cell_type": "code",
   "execution_count": 10,
   "metadata": {},
   "outputs": [],
   "source": [
    "def evaluate(weights, dataset):\n",
    "    # Defina a métrica de avaliação do perceptron aqui (e.g. acurácia)\n",
    "    acc = 0\n",
    "    for img,label in dataset:\n",
    "        inputs = np.append(img, [1])\n",
    "        o, y = perceptron(inputs.reshape(-1, ), weights.reshape(-1, ))\n",
    "        # Utiliza dunção degrau para obter 0 ou 1 e avaliar o acerto ou erro da classe\n",
    "        # definido threshold de 0.5, dividindo ao meio os valores da sigmoid\n",
    "        y = degrau(y, 0.5)\n",
    "        if y == label:\n",
    "            acc += 1\n",
    "    \n",
    "    return (acc, len(dataset))\n",
    "\n",
    "def error(target, pred):\n",
    "    return "
   ]
  },
  {
   "cell_type": "code",
   "execution_count": 11,
   "metadata": {
    "scrolled": false
   },
   "outputs": [
    {
     "name": "stdout",
     "output_type": "stream",
     "text": [
      "Accuracy at epoch 0: 70.342%\n",
      "Accuracy at epoch 1: 71.256%\n",
      "Accuracy at epoch 2: 71.636%\n",
      "Accuracy at epoch 3: 71.9%\n",
      "Accuracy at epoch 4: 72.006%\n",
      "Accuracy at epoch 5: 72.146%\n",
      "Accuracy at epoch 6: 72.278%\n",
      "Accuracy at epoch 7: 72.35%\n",
      "Accuracy at epoch 8: 72.398%\n",
      "Accuracy at epoch 9: 72.482%\n",
      "Accuracy at epoch 10: 72.542%\n",
      "Accuracy at epoch 11: 72.59%\n",
      "Accuracy at epoch 12: 72.662%\n",
      "Accuracy at epoch 13: 72.682%\n",
      "Accuracy at epoch 14: 72.694%\n",
      "Accuracy at epoch 15: 72.722%\n",
      "Accuracy at epoch 16: 72.732%\n",
      "Accuracy at epoch 17: 72.768%\n",
      "Accuracy at epoch 18: 72.8%\n",
      "Accuracy at epoch 19: 72.818%\n",
      "Accuracy at epoch 20: 72.84%\n",
      "Accuracy at epoch 21: 72.86%\n",
      "Accuracy at epoch 22: 72.868%\n",
      "Accuracy at epoch 23: 72.86%\n",
      "Accuracy at epoch 24: 72.886%\n",
      "Accuracy at epoch 25: 72.898%\n",
      "Accuracy at epoch 26: 72.898%\n",
      "Accuracy at epoch 27: 72.902%\n",
      "Accuracy at epoch 28: 72.922%\n",
      "Accuracy at epoch 29: 72.932%\n",
      "Accuracy at epoch 30: 72.94%\n",
      "Accuracy at epoch 31: 72.936%\n",
      "Accuracy at epoch 32: 72.964%\n",
      "Accuracy at epoch 33: 73.004%\n",
      "Accuracy at epoch 34: 73.008%\n",
      "Accuracy at epoch 35: 73.016%\n",
      "Accuracy at epoch 36: 73.01%\n",
      "Accuracy at epoch 37: 73.038%\n",
      "Accuracy at epoch 38: 73.046%\n",
      "Accuracy at epoch 39: 73.044%\n",
      "Accuracy at epoch 40: 73.052%\n",
      "Accuracy at epoch 41: 73.056%\n",
      "Accuracy at epoch 42: 73.048%\n",
      "Accuracy at epoch 43: 73.036%\n",
      "Accuracy at epoch 44: 73.04%\n",
      "Accuracy at epoch 45: 73.046%\n",
      "Accuracy at epoch 46: 73.04%\n",
      "Accuracy at epoch 47: 73.05%\n",
      "Accuracy at epoch 48: 73.05%\n",
      "Accuracy at epoch 49: 73.05%\n",
      "Accuracy at epoch 50: 73.056%\n",
      "Accuracy at epoch 51: 73.056%\n",
      "Accuracy at epoch 52: 73.058%\n",
      "Accuracy at epoch 53: 73.064%\n",
      "Accuracy at epoch 54: 73.068%\n",
      "Accuracy at epoch 55: 73.076%\n",
      "Accuracy at epoch 56: 73.074%\n",
      "Accuracy at epoch 57: 73.092%\n",
      "Accuracy at epoch 58: 73.092%\n",
      "Accuracy at epoch 59: 73.096%\n",
      "Accuracy at epoch 60: 73.106%\n",
      "Accuracy at epoch 61: 73.124%\n",
      "Accuracy at epoch 62: 73.128%\n",
      "Accuracy at epoch 63: 73.132%\n",
      "Accuracy at epoch 64: 73.126%\n",
      "Accuracy at epoch 65: 73.126%\n",
      "Accuracy at epoch 66: 73.132%\n",
      "Accuracy at epoch 67: 73.136%\n",
      "Accuracy at epoch 68: 73.146%\n",
      "Accuracy at epoch 69: 73.16%\n",
      "Accuracy at epoch 70: 73.168%\n",
      "Accuracy at epoch 71: 73.184%\n",
      "Accuracy at epoch 72: 73.188%\n",
      "Accuracy at epoch 73: 73.174%\n",
      "Accuracy at epoch 74: 73.172%\n",
      "Accuracy at epoch 75: 73.18%\n",
      "Accuracy at epoch 76: 73.19%\n",
      "Accuracy at epoch 77: 73.19%\n",
      "Accuracy at epoch 78: 73.188%\n",
      "Accuracy at epoch 79: 73.196%\n",
      "Accuracy at epoch 80: 73.206%\n",
      "Accuracy at epoch 81: 73.208%\n",
      "Accuracy at epoch 82: 73.208%\n",
      "Accuracy at epoch 83: 73.214%\n",
      "Accuracy at epoch 84: 73.216%\n",
      "Accuracy at epoch 85: 73.214%\n",
      "Accuracy at epoch 86: 73.224%\n",
      "Accuracy at epoch 87: 73.22%\n",
      "Accuracy at epoch 88: 73.216%\n",
      "Accuracy at epoch 89: 73.228%\n",
      "Accuracy at epoch 90: 73.23%\n",
      "Accuracy at epoch 91: 73.234%\n",
      "Accuracy at epoch 92: 73.244%\n",
      "Accuracy at epoch 93: 73.244%\n",
      "Accuracy at epoch 94: 73.252%\n",
      "Accuracy at epoch 95: 73.246%\n",
      "Accuracy at epoch 96: 73.254%\n",
      "Accuracy at epoch 97: 73.256%\n",
      "Accuracy at epoch 98: 73.256%\n",
      "Accuracy at epoch 99: 73.25%\n"
     ]
    }
   ],
   "source": [
    "# Inicialização\n",
    "weights = (np.random.rand(1,size) - 0.5)[0]\n",
    "bias = (np.random.rand(1) - 0.5) \n",
    "weights = np.append(weights, bias) \n",
    "\n",
    "neta = 0.001\n",
    "np.random.shuffle(linear_dataset_train)\n",
    "\n",
    "# Implemente o treino aqui (para separar as duas classes definidas)\n",
    "accuracies = []\n",
    "for epoch in range(100):\n",
    "    for img, label in linear_dataset_train:\n",
    "        inputs = np.append(img, [1])\n",
    "        o, y = perceptron(inputs.reshape(-1, ), weights.reshape(-1, ))\n",
    "        weights += neta * (label - y) * inputs #* (1 - inputs)\n",
    "            \n",
    "    acc, data_len = evaluate(weights, linear_dataset_train)\n",
    "    accuracies.append(acc)\n",
    "    print(\"Accuracy at epoch \" + str(epoch) + \": \" + str(100*acc/data_len) + \"%\")\n",
    "    "
   ]
  },
  {
   "cell_type": "code",
   "execution_count": 12,
   "metadata": {},
   "outputs": [
    {
     "name": "stdout",
     "output_type": "stream",
     "text": [
      "0.7211\n"
     ]
    }
   ],
   "source": [
    "# Avalie o modelo treinado aqui\n",
    "# Como a acurácia no conjunto de teste se compara com a acurácia obtida no conjunto de treino?\n",
    "acc, data_len = evaluate(weights, linear_dataset_test)\n",
    "print(acc / data_len)\n"
   ]
  },
  {
   "cell_type": "code",
   "execution_count": 17,
   "metadata": {},
   "outputs": [
    {
     "ename": "ValueError",
     "evalue": "Unrecognized character a in format string",
     "output_type": "error",
     "traceback": [
      "\u001b[0;31m----------------------------------------------------------------------\u001b[0m",
      "\u001b[0;31mValueError\u001b[0m                           Traceback (most recent call last)",
      "\u001b[0;32m<ipython-input-17-590976df8821>\u001b[0m in \u001b[0;36m<module>\u001b[0;34m\u001b[0m\n\u001b[1;32m      3\u001b[0m \u001b[0;32mimport\u001b[0m \u001b[0mmatplotlib\u001b[0m\u001b[0;34m.\u001b[0m\u001b[0mpyplot\u001b[0m \u001b[0;32mas\u001b[0m \u001b[0mplt\u001b[0m\u001b[0;34m\u001b[0m\u001b[0;34m\u001b[0m\u001b[0m\n\u001b[1;32m      4\u001b[0m \u001b[0mplt\u001b[0m\u001b[0;34m.\u001b[0m\u001b[0mtitle\u001b[0m\u001b[0;34m(\u001b[0m\u001b[0;34m\"Acurácia durante o Treinamento\"\u001b[0m\u001b[0;34m)\u001b[0m\u001b[0;34m\u001b[0m\u001b[0;34m\u001b[0m\u001b[0m\n\u001b[0;32m----> 5\u001b[0;31m \u001b[0m_\u001b[0m \u001b[0;34m=\u001b[0m \u001b[0mplt\u001b[0m\u001b[0;34m.\u001b[0m\u001b[0mplot\u001b[0m\u001b[0;34m(\u001b[0m\u001b[0maccuracies\u001b[0m\u001b[0;34m,\u001b[0m \u001b[0;34m\"das\"\u001b[0m\u001b[0;34m)\u001b[0m\u001b[0;34m\u001b[0m\u001b[0;34m\u001b[0m\u001b[0m\n\u001b[0m",
      "\u001b[0;32m~/anaconda3/lib/python3.7/site-packages/matplotlib/pyplot.py\u001b[0m in \u001b[0;36mplot\u001b[0;34m(scalex, scaley, data, *args, **kwargs)\u001b[0m\n\u001b[1;32m   2811\u001b[0m     return gca().plot(\n\u001b[1;32m   2812\u001b[0m         *args, scalex=scalex, scaley=scaley, **({\"data\": data} if data\n\u001b[0;32m-> 2813\u001b[0;31m         is not None else {}), **kwargs)\n\u001b[0m\u001b[1;32m   2814\u001b[0m \u001b[0;34m\u001b[0m\u001b[0m\n\u001b[1;32m   2815\u001b[0m \u001b[0;34m\u001b[0m\u001b[0m\n",
      "\u001b[0;32m~/anaconda3/lib/python3.7/site-packages/matplotlib/__init__.py\u001b[0m in \u001b[0;36minner\u001b[0;34m(ax, data, *args, **kwargs)\u001b[0m\n\u001b[1;32m   1808\u001b[0m                         \u001b[0;34m\"the Matplotlib list!)\"\u001b[0m \u001b[0;34m%\u001b[0m \u001b[0;34m(\u001b[0m\u001b[0mlabel_namer\u001b[0m\u001b[0;34m,\u001b[0m \u001b[0mfunc\u001b[0m\u001b[0;34m.\u001b[0m\u001b[0m__name__\u001b[0m\u001b[0;34m)\u001b[0m\u001b[0;34m,\u001b[0m\u001b[0;34m\u001b[0m\u001b[0;34m\u001b[0m\u001b[0m\n\u001b[1;32m   1809\u001b[0m                         RuntimeWarning, stacklevel=2)\n\u001b[0;32m-> 1810\u001b[0;31m             \u001b[0;32mreturn\u001b[0m \u001b[0mfunc\u001b[0m\u001b[0;34m(\u001b[0m\u001b[0max\u001b[0m\u001b[0;34m,\u001b[0m \u001b[0;34m*\u001b[0m\u001b[0margs\u001b[0m\u001b[0;34m,\u001b[0m \u001b[0;34m**\u001b[0m\u001b[0mkwargs\u001b[0m\u001b[0;34m)\u001b[0m\u001b[0;34m\u001b[0m\u001b[0;34m\u001b[0m\u001b[0m\n\u001b[0m\u001b[1;32m   1811\u001b[0m \u001b[0;34m\u001b[0m\u001b[0m\n\u001b[1;32m   1812\u001b[0m         inner.__doc__ = _add_data_doc(inner.__doc__,\n",
      "\u001b[0;32m~/anaconda3/lib/python3.7/site-packages/matplotlib/axes/_axes.py\u001b[0m in \u001b[0;36mplot\u001b[0;34m(self, scalex, scaley, *args, **kwargs)\u001b[0m\n\u001b[1;32m   1609\u001b[0m         \u001b[0mkwargs\u001b[0m \u001b[0;34m=\u001b[0m \u001b[0mcbook\u001b[0m\u001b[0;34m.\u001b[0m\u001b[0mnormalize_kwargs\u001b[0m\u001b[0;34m(\u001b[0m\u001b[0mkwargs\u001b[0m\u001b[0;34m,\u001b[0m \u001b[0mmlines\u001b[0m\u001b[0;34m.\u001b[0m\u001b[0mLine2D\u001b[0m\u001b[0;34m.\u001b[0m\u001b[0m_alias_map\u001b[0m\u001b[0;34m)\u001b[0m\u001b[0;34m\u001b[0m\u001b[0;34m\u001b[0m\u001b[0m\n\u001b[1;32m   1610\u001b[0m \u001b[0;34m\u001b[0m\u001b[0m\n\u001b[0;32m-> 1611\u001b[0;31m         \u001b[0;32mfor\u001b[0m \u001b[0mline\u001b[0m \u001b[0;32min\u001b[0m \u001b[0mself\u001b[0m\u001b[0;34m.\u001b[0m\u001b[0m_get_lines\u001b[0m\u001b[0;34m(\u001b[0m\u001b[0;34m*\u001b[0m\u001b[0margs\u001b[0m\u001b[0;34m,\u001b[0m \u001b[0;34m**\u001b[0m\u001b[0mkwargs\u001b[0m\u001b[0;34m)\u001b[0m\u001b[0;34m:\u001b[0m\u001b[0;34m\u001b[0m\u001b[0;34m\u001b[0m\u001b[0m\n\u001b[0m\u001b[1;32m   1612\u001b[0m             \u001b[0mself\u001b[0m\u001b[0;34m.\u001b[0m\u001b[0madd_line\u001b[0m\u001b[0;34m(\u001b[0m\u001b[0mline\u001b[0m\u001b[0;34m)\u001b[0m\u001b[0;34m\u001b[0m\u001b[0;34m\u001b[0m\u001b[0m\n\u001b[1;32m   1613\u001b[0m             \u001b[0mlines\u001b[0m\u001b[0;34m.\u001b[0m\u001b[0mappend\u001b[0m\u001b[0;34m(\u001b[0m\u001b[0mline\u001b[0m\u001b[0;34m)\u001b[0m\u001b[0;34m\u001b[0m\u001b[0;34m\u001b[0m\u001b[0m\n",
      "\u001b[0;32m~/anaconda3/lib/python3.7/site-packages/matplotlib/axes/_base.py\u001b[0m in \u001b[0;36m_grab_next_args\u001b[0;34m(self, *args, **kwargs)\u001b[0m\n\u001b[1;32m    391\u001b[0m                 \u001b[0mthis\u001b[0m \u001b[0;34m+=\u001b[0m \u001b[0margs\u001b[0m\u001b[0;34m[\u001b[0m\u001b[0;36m0\u001b[0m\u001b[0;34m]\u001b[0m\u001b[0;34m,\u001b[0m\u001b[0;34m\u001b[0m\u001b[0;34m\u001b[0m\u001b[0m\n\u001b[1;32m    392\u001b[0m                 \u001b[0margs\u001b[0m \u001b[0;34m=\u001b[0m \u001b[0margs\u001b[0m\u001b[0;34m[\u001b[0m\u001b[0;36m1\u001b[0m\u001b[0;34m:\u001b[0m\u001b[0;34m]\u001b[0m\u001b[0;34m\u001b[0m\u001b[0;34m\u001b[0m\u001b[0m\n\u001b[0;32m--> 393\u001b[0;31m             \u001b[0;32myield\u001b[0m \u001b[0;32mfrom\u001b[0m \u001b[0mself\u001b[0m\u001b[0;34m.\u001b[0m\u001b[0m_plot_args\u001b[0m\u001b[0;34m(\u001b[0m\u001b[0mthis\u001b[0m\u001b[0;34m,\u001b[0m \u001b[0mkwargs\u001b[0m\u001b[0;34m)\u001b[0m\u001b[0;34m\u001b[0m\u001b[0;34m\u001b[0m\u001b[0m\n\u001b[0m\u001b[1;32m    394\u001b[0m \u001b[0;34m\u001b[0m\u001b[0m\n\u001b[1;32m    395\u001b[0m \u001b[0;34m\u001b[0m\u001b[0m\n",
      "\u001b[0;32m~/anaconda3/lib/python3.7/site-packages/matplotlib/axes/_base.py\u001b[0m in \u001b[0;36m_plot_args\u001b[0;34m(self, tup, kwargs)\u001b[0m\n\u001b[1;32m    340\u001b[0m         \u001b[0mret\u001b[0m \u001b[0;34m=\u001b[0m \u001b[0;34m[\u001b[0m\u001b[0;34m]\u001b[0m\u001b[0;34m\u001b[0m\u001b[0;34m\u001b[0m\u001b[0m\n\u001b[1;32m    341\u001b[0m         \u001b[0;32mif\u001b[0m \u001b[0mlen\u001b[0m\u001b[0;34m(\u001b[0m\u001b[0mtup\u001b[0m\u001b[0;34m)\u001b[0m \u001b[0;34m>\u001b[0m \u001b[0;36m1\u001b[0m \u001b[0;32mand\u001b[0m \u001b[0misinstance\u001b[0m\u001b[0;34m(\u001b[0m\u001b[0mtup\u001b[0m\u001b[0;34m[\u001b[0m\u001b[0;34m-\u001b[0m\u001b[0;36m1\u001b[0m\u001b[0;34m]\u001b[0m\u001b[0;34m,\u001b[0m \u001b[0mstr\u001b[0m\u001b[0;34m)\u001b[0m\u001b[0;34m:\u001b[0m\u001b[0;34m\u001b[0m\u001b[0;34m\u001b[0m\u001b[0m\n\u001b[0;32m--> 342\u001b[0;31m             \u001b[0mlinestyle\u001b[0m\u001b[0;34m,\u001b[0m \u001b[0mmarker\u001b[0m\u001b[0;34m,\u001b[0m \u001b[0mcolor\u001b[0m \u001b[0;34m=\u001b[0m \u001b[0m_process_plot_format\u001b[0m\u001b[0;34m(\u001b[0m\u001b[0mtup\u001b[0m\u001b[0;34m[\u001b[0m\u001b[0;34m-\u001b[0m\u001b[0;36m1\u001b[0m\u001b[0;34m]\u001b[0m\u001b[0;34m)\u001b[0m\u001b[0;34m\u001b[0m\u001b[0;34m\u001b[0m\u001b[0m\n\u001b[0m\u001b[1;32m    343\u001b[0m             \u001b[0mtup\u001b[0m \u001b[0;34m=\u001b[0m \u001b[0mtup\u001b[0m\u001b[0;34m[\u001b[0m\u001b[0;34m:\u001b[0m\u001b[0;34m-\u001b[0m\u001b[0;36m1\u001b[0m\u001b[0;34m]\u001b[0m\u001b[0;34m\u001b[0m\u001b[0;34m\u001b[0m\u001b[0m\n\u001b[1;32m    344\u001b[0m         \u001b[0;32melif\u001b[0m \u001b[0mlen\u001b[0m\u001b[0;34m(\u001b[0m\u001b[0mtup\u001b[0m\u001b[0;34m)\u001b[0m \u001b[0;34m==\u001b[0m \u001b[0;36m3\u001b[0m\u001b[0;34m:\u001b[0m\u001b[0;34m\u001b[0m\u001b[0;34m\u001b[0m\u001b[0m\n",
      "\u001b[0;32m~/anaconda3/lib/python3.7/site-packages/matplotlib/axes/_base.py\u001b[0m in \u001b[0;36m_process_plot_format\u001b[0;34m(fmt)\u001b[0m\n\u001b[1;32m    116\u001b[0m         \u001b[0;32melse\u001b[0m\u001b[0;34m:\u001b[0m\u001b[0;34m\u001b[0m\u001b[0;34m\u001b[0m\u001b[0m\n\u001b[1;32m    117\u001b[0m             raise ValueError(\n\u001b[0;32m--> 118\u001b[0;31m                 'Unrecognized character %c in format string' % c)\n\u001b[0m\u001b[1;32m    119\u001b[0m         \u001b[0mi\u001b[0m \u001b[0;34m+=\u001b[0m \u001b[0;36m1\u001b[0m\u001b[0;34m\u001b[0m\u001b[0;34m\u001b[0m\u001b[0m\n\u001b[1;32m    120\u001b[0m \u001b[0;34m\u001b[0m\u001b[0m\n",
      "\u001b[0;31mValueError\u001b[0m: Unrecognized character a in format string"
     ]
    },
    {
     "data": {
      "image/png": "[encoded data removed]",
      "text/plain": [
       "<Figure size 432x288 with 1 Axes>"
      ]
     },
     "metadata": {
      "needs_background": "light"
     },
     "output_type": "display_data"
    }
   ],
   "source": [
    "# Caso queiram plotar alguma coisa\n",
    "\n",
    "import matplotlib.pyplot as plt\n",
    "plt.title(\"Acurácia durante o Treinamento\")\n",
    "_ = plt.plot(accuracies)"
   ]
  },
  {
   "cell_type": "markdown",
   "metadata": {},
   "source": [
    "# Classificando classes individuais\n",
    "\n",
    "Implemente aqui a modificação do processo de avaliação e treinamento para poder classificar cada classe individualmente.\n",
    "\n",
    "- Ideia geral: treinar um perceptron por classe (exemplo positivo = exemplos da classe; exemplos negativos = exemplo de todas outras classes)\n",
    "- Dado um exemplo qualquer, como decidir qual perceptron está dando a classe correta?"
   ]
  },
  {
   "cell_type": "code",
   "execution_count": null,
   "metadata": {},
   "outputs": [],
   "source": []
  }
 ],
 "metadata": {
  "kernelspec": {
   "display_name": "Python 3",
   "language": "python",
   "name": "python3"
  },
  "language_info": {
   "codemirror_mode": {
    "name": "ipython",
    "version": 3
   },
   "file_extension": ".py",
   "mimetype": "text/x-python",
   "name": "python",
   "nbconvert_exporter": "python",
   "pygments_lexer": "ipython3",
   "version": "3.7.1"
  }
 },
 "nbformat": 4,
 "nbformat_minor": 2
}
