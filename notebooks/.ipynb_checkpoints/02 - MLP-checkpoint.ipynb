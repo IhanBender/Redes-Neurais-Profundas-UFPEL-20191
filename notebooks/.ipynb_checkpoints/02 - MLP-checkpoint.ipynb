{
 "cells": [
  {
   "cell_type": "markdown",
   "metadata": {},
   "source": [
    "# Objetivos deste trabalho\n",
    "- Familiarizar-se com a biblioteca PyTorch\n",
    "- Definir arquiteturas MLP simples em PyTorch\n",
    "- Treinar utilizando CIFAR10, testando diferentes arquiteturas, parâmetros, funções de loss e otimizadores\n",
    "- Comparar os resultados obtidos utilizando apenas Perpceptrons"
   ]
  },
  {
   "cell_type": "code",
   "execution_count": 1,
   "metadata": {},
   "outputs": [],
   "source": [
    "%matplotlib inline\n",
    "\n",
    "import numpy as np \n",
    "import matplotlib.pyplot as plt\n",
    "\n",
    "import torch\n",
    "import torch.nn as nn\n",
    "from torch.utils.data import DataLoader\n",
    "\n",
    "import torchvision\n",
    "import torchvision.transforms as transforms"
   ]
  },
  {
   "cell_type": "code",
   "execution_count": 2,
   "metadata": {},
   "outputs": [
    {
     "name": "stdout",
     "output_type": "stream",
     "text": [
      "cuda:0\n"
     ]
    }
   ],
   "source": [
    "device = torch.device(\"cuda:0\" if torch.cuda.is_available() else \"cpu\")\n",
    "print(device)"
   ]
  },
  {
   "cell_type": "code",
   "execution_count": 3,
   "metadata": {},
   "outputs": [
    {
     "name": "stdout",
     "output_type": "stream",
     "text": [
      "Files already downloaded and verified\n",
      "Files already downloaded and verified\n"
     ]
    }
   ],
   "source": [
    "# Carregar os datasets\n",
    "\n",
    "transform=transforms.Compose([\n",
    "    transforms.Grayscale(num_output_channels=1),\n",
    "    transforms.ToTensor()\n",
    "])\n",
    "\n",
    "dataset_train = torchvision.datasets.CIFAR10(root='./data', train=True,\n",
    "                                        download=True, transform=transform)\n",
    "\n",
    "dataset_test = torchvision.datasets.CIFAR10(root='./data', train=False,\n",
    "                                        download=True, transform=transform)"
   ]
  },
  {
   "cell_type": "code",
   "execution_count": 4,
   "metadata": {},
   "outputs": [],
   "source": [
    "train_loader = DataLoader(dataset=dataset_train, shuffle=True, batch_size=200)\n",
    "test_loader = DataLoader(dataset=dataset_test, shuffle=False, batch_size=200)"
   ]
  },
  {
   "cell_type": "code",
   "execution_count": null,
   "metadata": {},
   "outputs": [],
   "source": [
    "# Definir a arquitetura MLP\n",
    "\n",
    "class MLP(nn.Module):\n",
    "\n",
    "    def __init__(self, layers):\n",
    "        super(MLP, self).__init__()\n",
    "        self.layers = layers\n",
    "        self.fc1 = nn.Linear(32*32, 512)\n",
    "        self.fc2 = nn.Linear(512, 256)\n",
    "        self.fc3 = nn.Linear(256, 64)\n",
    "        self.fc4 = nn.Linear(64, 10)\n",
    "        self.activation_function = torch.nn.ReLU()\n",
    "#         self.activation_function = torch.nn.LeakyReLU()\n",
    "        \n",
    "    def forward(self, x):\n",
    "        x = x.view(-1, 32*32)\n",
    "        x = self.activation_function(self.fc1(x))\n",
    "        x = self.activation_function(self.fc2(x))\n",
    "        x = self.activation_function(self.fc3(x))\n",
    "        x = self.activation_function(self.fc4(x))\n",
    "        return x"
   ]
  },
  {
   "cell_type": "code",
   "execution_count": null,
   "metadata": {},
   "outputs": [
    {
     "name": "stdout",
     "output_type": "stream",
     "text": [
      "cuda:0\n",
      "MLP(\n",
      "  (fc1): Linear(in_features=1024, out_features=512, bias=True)\n",
      "  (fc2): Linear(in_features=512, out_features=256, bias=True)\n",
      "  (fc3): Linear(in_features=256, out_features=64, bias=True)\n",
      "  (fc4): Linear(in_features=64, out_features=10, bias=True)\n",
      "  (activation_function): ReLU()\n",
      ")\n"
     ]
    }
   ],
   "source": [
    "model = MLP([]).to(device)\n",
    "print(device)\n",
    "print(model)\n",
    "\n",
    "# Definir otimizador e loss\n",
    "# Nota: testar outros otimizadores e funções de loss (em particular cross entropy)\n",
    "optimizer = torch.optim.SGD(model.parameters(), lr = 0.001)\n",
    "loss_fn = torch.nn.CrossEntropyLoss().cuda()"
   ]
  },
  {
   "cell_type": "code",
   "execution_count": null,
   "metadata": {
    "scrolled": true
   },
   "outputs": [
    {
     "name": "stdout",
     "output_type": "stream",
     "text": [
      "[1,   200] loss: 2.303\n",
      "[2,   200] loss: 2.303\n",
      "[3,   200] loss: 2.302\n",
      "[4,   200] loss: 2.302\n",
      "[5,   200] loss: 2.301\n",
      "[6,   200] loss: 2.301\n",
      "[7,   200] loss: 2.301\n",
      "[8,   200] loss: 2.300\n",
      "[9,   200] loss: 2.300\n",
      "[10,   200] loss: 2.299\n",
      "[11,   200] loss: 2.299\n",
      "[12,   200] loss: 2.299\n",
      "[13,   200] loss: 2.298\n",
      "[14,   200] loss: 2.298\n",
      "[15,   200] loss: 2.297\n",
      "[16,   200] loss: 2.297\n",
      "[17,   200] loss: 2.296\n",
      "[18,   200] loss: 2.296\n",
      "[19,   200] loss: 2.295\n",
      "[20,   200] loss: 2.294\n",
      "[21,   200] loss: 2.294\n",
      "[22,   200] loss: 2.293\n",
      "[23,   200] loss: 2.293\n",
      "[24,   200] loss: 2.292\n",
      "[25,   200] loss: 2.291\n",
      "[26,   200] loss: 2.291\n",
      "[27,   200] loss: 2.290\n",
      "[28,   200] loss: 2.289\n",
      "[29,   200] loss: 2.288\n",
      "[30,   200] loss: 2.288\n",
      "[31,   200] loss: 2.287\n",
      "[32,   200] loss: 2.286\n",
      "[33,   200] loss: 2.285\n",
      "[34,   200] loss: 2.284\n",
      "[35,   200] loss: 2.283\n",
      "[36,   200] loss: 2.282\n",
      "[37,   200] loss: 2.281\n",
      "[38,   200] loss: 2.279\n",
      "[39,   200] loss: 2.278\n",
      "[40,   200] loss: 2.277\n",
      "[41,   200] loss: 2.276\n",
      "[42,   200] loss: 2.274\n",
      "[43,   200] loss: 2.273\n",
      "[44,   200] loss: 2.271\n",
      "[45,   200] loss: 2.270\n",
      "[46,   200] loss: 2.268\n",
      "[47,   200] loss: 2.267\n",
      "[48,   200] loss: 2.265\n",
      "[49,   200] loss: 2.263\n",
      "[50,   200] loss: 2.261\n",
      "[51,   200] loss: 2.259\n",
      "[52,   200] loss: 2.257\n",
      "[53,   200] loss: 2.254\n",
      "[54,   200] loss: 2.252\n",
      "[55,   200] loss: 2.249\n",
      "[56,   200] loss: 2.246\n",
      "[57,   200] loss: 2.244\n",
      "[58,   200] loss: 2.241\n",
      "[59,   200] loss: 2.237\n",
      "[60,   200] loss: 2.234\n",
      "[61,   200] loss: 2.231\n",
      "[62,   200] loss: 2.227\n",
      "[63,   200] loss: 2.223\n",
      "[64,   200] loss: 2.220\n",
      "[65,   200] loss: 2.216\n",
      "[66,   200] loss: 2.212\n",
      "[67,   200] loss: 2.208\n",
      "[68,   200] loss: 2.204\n",
      "[69,   200] loss: 2.200\n",
      "[70,   200] loss: 2.196\n",
      "[71,   200] loss: 2.192\n",
      "[72,   200] loss: 2.188\n",
      "[73,   200] loss: 2.184\n",
      "[74,   200] loss: 2.181\n",
      "[75,   200] loss: 2.178\n",
      "[76,   200] loss: 2.174\n",
      "[77,   200] loss: 2.171\n",
      "[78,   200] loss: 2.168\n",
      "[79,   200] loss: 2.166\n",
      "[80,   200] loss: 2.163\n",
      "[81,   200] loss: 2.161\n",
      "[82,   200] loss: 2.158\n",
      "[83,   200] loss: 2.156\n",
      "[84,   200] loss: 2.154\n",
      "[85,   200] loss: 2.152\n",
      "[86,   200] loss: 2.150\n",
      "[87,   200] loss: 2.148\n",
      "[88,   200] loss: 2.146\n",
      "[89,   200] loss: 2.144\n",
      "[90,   200] loss: 2.142\n",
      "[91,   200] loss: 2.140\n",
      "[92,   200] loss: 2.138\n",
      "[93,   200] loss: 2.136\n",
      "[94,   200] loss: 2.134\n",
      "[95,   200] loss: 2.132\n",
      "[96,   200] loss: 2.130\n",
      "[97,   200] loss: 2.129\n",
      "[98,   200] loss: 2.127\n",
      "[99,   200] loss: 2.125\n",
      "[100,   200] loss: 2.123\n",
      "[101,   200] loss: 2.121\n",
      "[102,   200] loss: 2.119\n",
      "[103,   200] loss: 2.117\n",
      "[104,   200] loss: 2.115\n",
      "[105,   200] loss: 2.112\n",
      "[106,   200] loss: 2.110\n",
      "[107,   200] loss: 2.108\n",
      "[108,   200] loss: 2.106\n",
      "[109,   200] loss: 2.104\n",
      "[110,   200] loss: 2.102\n",
      "[111,   200] loss: 2.100\n",
      "[112,   200] loss: 2.098\n",
      "[113,   200] loss: 2.096\n",
      "[114,   200] loss: 2.094\n",
      "[115,   200] loss: 2.092\n"
     ]
    }
   ],
   "source": [
    "# Realizar o treinamento aqui\n",
    "\n",
    "inputs_list = []\n",
    "labels_list = []\n",
    "for _, (inputs, labels) in enumerate(train_loader):\n",
    "    inputs_list.append(inputs.to(device))\n",
    "    labels_list.append(labels.to(device))\n",
    "        \n",
    "losses = []\n",
    "for epoch in range(5000):\n",
    "    running_loss = 0.0\n",
    "    \n",
    "    for i, (inputs, labels) in enumerate(zip(inputs_list, labels_list), 0):\n",
    "        optimizer.zero_grad()\n",
    "        \n",
    "        y_pred = model(inputs)\n",
    "        loss = loss_fn(y_pred, labels)\n",
    "        loss.backward()\n",
    "        optimizer.step()\n",
    "        \n",
    "        # print statistics\n",
    "        running_loss += loss.item()\n",
    "        if i % 200 == 199:    # print every 200 mini-batches\n",
    "            print('[%d, %5d] loss: %.3f' %\n",
    "                  (epoch + 1, i + 1, running_loss / 200))\n",
    "            running_loss = 0.0\n",
    "    "
   ]
  },
  {
   "cell_type": "code",
   "execution_count": null,
   "metadata": {},
   "outputs": [],
   "source": [
    "import matplotlib.pyplot as plt\n",
    "plt.title(\"Cross Entropy durante o Treinamento\")\n",
    "plt.tight_layout()\n",
    "_ = plt.plot(losses)\n",
    "plt.show()"
   ]
  },
  {
   "cell_type": "code",
   "execution_count": null,
   "metadata": {},
   "outputs": [],
   "source": [
    "def one_hot(results):\n",
    "    results = results.cpu().detach().numpy().tolist()[0]\n",
    "    return results.index(max(results))"
   ]
  },
  {
   "cell_type": "code",
   "execution_count": null,
   "metadata": {},
   "outputs": [],
   "source": [
    "train_loader = DataLoader(dataset=dataset_train, shuffle=True, batch_size=1)\n",
    "test_loader = DataLoader(dataset=dataset_test, shuffle=False, batch_size=1)\n",
    "\n",
    "# Avaliar o modelo aqui (no conjunto de teste)\n",
    "inputs_list = []\n",
    "labels_list = []\n",
    "for _, (inputs, labels) in enumerate(train_loader):\n",
    "    inputs_list.append(inputs.to(device))\n",
    "    labels_list.append(labels.to(device))\n",
    "\n",
    "\n",
    "acuracia = 0\n",
    "results = [0,0,0,0,0,0,0,0,0,0]\n",
    "for i, (inputs, labels) in enumerate(zip(inputs_list, labels_list), 0):\n",
    "    y_pred = model(inputs)\n",
    "    \n",
    "    result = one_hot(y_pred)\n",
    "    \n",
    "    if result == labels.item():\n",
    "        acuracia += 1\n",
    "    \n",
    "    results[result] += 1\n",
    "    \n",
    "print(acuracia / 50000 * 100, \"%\")\n",
    "print(results)"
   ]
  },
  {
   "cell_type": "code",
   "execution_count": null,
   "metadata": {},
   "outputs": [],
   "source": [
    "train_loader = DataLoader(dataset=dataset_train, shuffle=True, batch_size=1)\n",
    "test_loader = DataLoader(dataset=dataset_test, shuffle=False, batch_size=1)\n",
    "\n",
    "# Avaliar o modelo aqui (no conjunto de teste)\n",
    "inputs_list = []\n",
    "labels_list = []\n",
    "for _, (inputs, labels) in enumerate(test_loader):\n",
    "    inputs_list.append(inputs.to(device))\n",
    "    labels_list.append(labels.to(device))\n",
    "\n",
    "\n",
    "acuracia = 0\n",
    "results = [0,0,0,0,0,0,0,0,0,0]\n",
    "for i, (inputs, labels) in enumerate(zip(inputs_list, labels_list), 0):\n",
    "    y_pred = model(inputs)\n",
    "    \n",
    "    result = one_hot(y_pred)\n",
    "    \n",
    "    if result == labels.item():\n",
    "        acuracia += 1\n",
    "    \n",
    "    results[result] += 1\n",
    "    \n",
    "print(acuracia / 50000 * 100, \"%\")\n",
    "print(results)"
   ]
  },
  {
   "cell_type": "code",
   "execution_count": null,
   "metadata": {},
   "outputs": [],
   "source": []
  }
 ],
 "metadata": {
  "kernelspec": {
   "display_name": "Python 3",
   "language": "python",
   "name": "python3"
  },
  "language_info": {
   "codemirror_mode": {
    "name": "ipython",
    "version": 3
   },
   "file_extension": ".py",
   "mimetype": "text/x-python",
   "name": "python",
   "nbconvert_exporter": "python",
   "pygments_lexer": "ipython3",
   "version": "3.7.1"
  }
 },
 "nbformat": 4,
 "nbformat_minor": 2
}
