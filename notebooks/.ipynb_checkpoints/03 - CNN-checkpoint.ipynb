{
 "cells": [
  {
   "cell_type": "markdown",
   "metadata": {
    "colab_type": "text",
    "id": "1cxGyZhunHDb"
   },
   "source": [
    "# Rede Neural Convolucional\n"
   ]
  },
  {
   "cell_type": "code",
   "execution_count": 1,
   "metadata": {
    "colab": {},
    "colab_type": "code",
    "id": "EZPp23HYnHDf"
   },
   "outputs": [],
   "source": [
    "%matplotlib inline\n",
    "\n",
    "import numpy as np \n",
    "import matplotlib.pyplot as plt\n",
    "\n",
    "import torch\n",
    "import torch.nn as nn\n",
    "from torch.utils.data import DataLoader\n",
    "\n",
    "import torchvision\n",
    "import torchvision.transforms as transforms"
   ]
  },
  {
   "cell_type": "code",
   "execution_count": 2,
   "metadata": {
    "colab": {
     "base_uri": "https://localhost:8080/",
     "height": 34
    },
    "colab_type": "code",
    "executionInfo": {
     "elapsed": 909,
     "status": "ok",
     "timestamp": 1555804000215,
     "user": {
      "displayName": "Ihan Bender",
      "photoUrl": "",
      "userId": "09326755177320215938"
     },
     "user_tz": 180
    },
    "id": "cGMOJq80nHDs",
    "outputId": "738ead35-2010-4b5a-dc8a-84c0f90d4908"
   },
   "outputs": [
    {
     "name": "stdout",
     "output_type": "stream",
     "text": [
      "cuda:0\n"
     ]
    }
   ],
   "source": [
    "device = torch.device(\"cuda:0\" if torch.cuda.is_available() else \"cpu\")\n",
    "print(device)"
   ]
  },
  {
   "cell_type": "code",
   "execution_count": 3,
   "metadata": {
    "colab": {
     "base_uri": "https://localhost:8080/",
     "height": 51
    },
    "colab_type": "code",
    "executionInfo": {
     "elapsed": 2723,
     "status": "ok",
     "timestamp": 1555804002045,
     "user": {
      "displayName": "Ihan Bender",
      "photoUrl": "",
      "userId": "09326755177320215938"
     },
     "user_tz": 180
    },
    "id": "8XhxVpVFnHD3",
    "outputId": "e79a4a64-9185-4711-f478-eb7f963ce008"
   },
   "outputs": [
    {
     "name": "stdout",
     "output_type": "stream",
     "text": [
      "Files already downloaded and verified\n",
      "Files already downloaded and verified\n"
     ]
    }
   ],
   "source": [
    "# Carregar os datasets\n",
    "\n",
    "transform=transforms.Compose([\n",
    "#     transforms.Grayscale(num_output_channels=1),\n",
    "    transforms.ToTensor()\n",
    "])\n",
    "\n",
    "dataset_train = torchvision.datasets.CIFAR10(root='./data', train=True,\n",
    "                                        download=True, transform=transform)\n",
    "\n",
    "dataset_test = torchvision.datasets.CIFAR10(root='./data', train=False,\n",
    "                                        download=True, transform=transform)"
   ]
  },
  {
   "cell_type": "code",
   "execution_count": 4,
   "metadata": {
    "colab": {
     "base_uri": "https://localhost:8080/",
     "height": 34
    },
    "colab_type": "code",
    "executionInfo": {
     "elapsed": 3984,
     "status": "ok",
     "timestamp": 1555804003324,
     "user": {
      "displayName": "Ihan Bender",
      "photoUrl": "",
      "userId": "09326755177320215938"
     },
     "user_tz": 180
    },
    "id": "QN7Lbm84nHD8",
    "outputId": "b41c6437-9d90-4c6e-f3cd-da0784612dc5"
   },
   "outputs": [
    {
     "name": "stdout",
     "output_type": "stream",
     "text": [
      "5000 5000\n"
     ]
    }
   ],
   "source": [
    "train = DataLoader(dataset=dataset_train, shuffle=True, batch_size=200)\n",
    "test_loader = DataLoader(dataset=dataset_test, shuffle=False, batch_size=1000)\n",
    "test, validation = [], []\n",
    "\n",
    "for index, element in enumerate(test_loader):\n",
    "  if index/len(test_loader) < 0.49:\n",
    "    test.append(element)\n",
    "  else:\n",
    "    validation.append(element)\n",
    "\n",
    "test_size, validation_size = len(test) * 1000, len(validation) * 1000\n",
    "print(test_size, validation_size)"
   ]
  },
  {
   "cell_type": "code",
   "execution_count": 5,
   "metadata": {
    "colab": {},
    "colab_type": "code",
    "id": "Wb6DKramnHEA"
   },
   "outputs": [],
   "source": [
    "class CNN(nn.Module):\n",
    "\n",
    "    def __init__(self):\n",
    "        super(CNN, self).__init__()\n",
    "        self.pool = nn.MaxPool2d(2)\n",
    "        self.relu = nn.ReLU()\n",
    "        self.fc_dropout = nn.Dropout(p=0.5)\n",
    "        self.cn_dropout = nn.Dropout2d(p=0.2)\n",
    "        \n",
    "        self.conv1 = nn.Conv2d(3, 32, 3)\n",
    "        self.conv1_bn = nn.BatchNorm2d(32)\n",
    "        self.conv2 = nn.Conv2d(32, 64, 3)\n",
    "        self.conv2_bn = nn.BatchNorm2d(64)\n",
    "        self.conv3 = nn.Conv2d(64, 32, 3)\n",
    "        self.conv3_bn = nn.BatchNorm2d(32)\n",
    "        \n",
    "        self.fc1 = nn.Linear(32*5*5, 512)\n",
    "        self.fc2 = nn.Linear(512, 256)\n",
    "        self.fc3 = nn.Linear(256, 10)\n",
    "        \n",
    "        \n",
    "    def forward(self, x):\n",
    "        x = self.cn_dropout(self.relu(self.conv1_bn(self.conv1(x))))\n",
    "        x = self.pool(x)\n",
    "        \n",
    "        x = self.cn_dropout(self.relu(self.conv2_bn(self.conv2(x))))\n",
    "        x = self.cn_dropout(self.relu(self.conv3_bn(self.conv3(x))))\n",
    "        x = self.pool(x)\n",
    "        \n",
    "        x = x.view(-1, 32*5*5)\n",
    "        \n",
    "        x = self.fc_dropout(self.relu(self.fc1(x)))\n",
    "        x = self.fc_dropout(self.relu(self.fc2(x)))\n",
    "        x = self.fc_dropout(self.relu(self.fc3(x)))\n",
    "        return x"
   ]
  },
  {
   "cell_type": "code",
   "execution_count": 6,
   "metadata": {
    "colab": {
     "base_uri": "https://localhost:8080/",
     "height": 187
    },
    "colab_type": "code",
    "executionInfo": {
     "elapsed": 8181,
     "status": "ok",
     "timestamp": 1555804007565,
     "user": {
      "displayName": "Ihan Bender",
      "photoUrl": "",
      "userId": "09326755177320215938"
     },
     "user_tz": 180
    },
    "id": "NuYrQiH3nHEE",
    "outputId": "e19f8341-0c30-4f2d-d904-8eaa95a65533",
    "scrolled": true
   },
   "outputs": [
    {
     "name": "stdout",
     "output_type": "stream",
     "text": [
      "CNN(\n",
      "  (pool): MaxPool2d(kernel_size=2, stride=2, padding=0, dilation=1, ceil_mode=False)\n",
      "  (relu): ReLU()\n",
      "  (fc_dropout): Dropout(p=0.5)\n",
      "  (cn_dropout): Dropout2d(p=0.2)\n",
      "  (conv1): Conv2d(3, 32, kernel_size=(3, 3), stride=(1, 1))\n",
      "  (conv1_bn): BatchNorm2d(32, eps=1e-05, momentum=0.1, affine=True, track_running_stats=True)\n",
      "  (conv2): Conv2d(32, 64, kernel_size=(3, 3), stride=(1, 1))\n",
      "  (conv2_bn): BatchNorm2d(64, eps=1e-05, momentum=0.1, affine=True, track_running_stats=True)\n",
      "  (conv3): Conv2d(64, 64, kernel_size=(3, 3), stride=(1, 1))\n",
      "  (conv3_bn): BatchNorm2d(64, eps=1e-05, momentum=0.1, affine=True, track_running_stats=True)\n",
      "  (fc1): Linear(in_features=800, out_features=512, bias=True)\n",
      "  (fc2): Linear(in_features=512, out_features=256, bias=True)\n",
      "  (fc3): Linear(in_features=256, out_features=10, bias=True)\n",
      ")\n"
     ]
    }
   ],
   "source": [
    "model = CNN().to(device)\n",
    "optimizer = torch.optim.SGD(model.parameters(), lr = 1e-2, weight_decay=1e-4)\n",
    "loss_fn = torch.nn.CrossEntropyLoss().cuda()\n",
    "\n",
    "print(model)"
   ]
  },
  {
   "cell_type": "code",
   "execution_count": 7,
   "metadata": {
    "colab": {},
    "colab_type": "code",
    "id": "tWUWf9p8nHEJ"
   },
   "outputs": [],
   "source": [
    "import sys\n",
    "import copy\n",
    "\n",
    "def one_hot(results):\n",
    "    results = results.cpu().detach().numpy().tolist()\n",
    "    return results.index(max(results))\n",
    "\n",
    "def train_model(model, epochs, train, test):\n",
    "    global test_size\n",
    "    best_model, train_losses, test_acc = model, [], []\n",
    "    min_error = sys.float_info.max\n",
    "    \n",
    "    train_inputs, train_labels = [], []\n",
    "    for _, (inputs, labels) in enumerate(train):\n",
    "        train_inputs.append(inputs.to(device))\n",
    "        train_labels.append(labels.to(device))\n",
    "    \n",
    "    test_inputs, test_labels = [], []\n",
    "    for _, (inputs, labels) in enumerate(test):\n",
    "        test_inputs.append(inputs.to(device))\n",
    "        test_labels.append(labels.to(device))\n",
    "    \n",
    "    for epoch in range(epochs):\n",
    "        # Training Set\n",
    "        model.train()\n",
    "        running_loss = 0.0\n",
    "        for i, (inputs, labels) in enumerate(zip(train_inputs, train_labels), 0):\n",
    "            optimizer.zero_grad()\n",
    "            y_pred = model(inputs)\n",
    "            loss = loss_fn(y_pred, labels)\n",
    "            loss.backward()\n",
    "            optimizer.step()\n",
    "            running_loss += loss.item()\n",
    "        train_losses.append(running_loss / (50000/200))\n",
    "        \n",
    "        # Test set\n",
    "        model.eval()\n",
    "        hits = 0\n",
    "        for i, (inputs, labels) in enumerate(zip(test_inputs, test_labels), 0):\n",
    "            y_pred = model(inputs)\n",
    "            for i, (pred, label) in enumerate(zip(y_pred, labels)):\n",
    "                if one_hot(pred)==label.item():\n",
    "                    hits+=1\n",
    "                    \n",
    "        test_acc.append(hits / test_size * 100)\n",
    "        if test_acc[-1] <= min_error:\n",
    "            min_error = test_acc[-1]\n",
    "            best_model = copy.deepcopy(model)\n",
    "\n",
    "        print(\"Loss at epoch [\"+ str(epoch + 1) +\"]: \"+ str(train_losses[-1]) +\" (Train Set)\")\n",
    "        print(\"Accuracy at epoch [\" + str(epoch + 1) + \"]:\"+str(test_acc[-1])+\"% (Test Set)\")\n",
    "        print('\\n')    \n",
    "            \n",
    "    return best_model, train_losses, test_acc"
   ]
  },
  {
   "cell_type": "markdown",
   "metadata": {
    "colab_type": "text",
    "id": "iCcA5tlMnHEM"
   },
   "source": [
    "# Trainamento do Modelo\n"
   ]
  },
  {
   "cell_type": "code",
   "execution_count": 8,
   "metadata": {
    "colab": {
     "base_uri": "https://localhost:8080/",
     "height": 27217
    },
    "colab_type": "code",
    "executionInfo": {
     "elapsed": 973089,
     "status": "ok",
     "timestamp": 1555804972489,
     "user": {
      "displayName": "Ihan Bender",
      "photoUrl": "",
      "userId": "09326755177320215938"
     },
     "user_tz": 180
    },
    "id": "V6K4tfJ4nHEN",
    "outputId": "3eb00289-8cad-4626-d7b8-b600a821c195",
    "scrolled": true
   },
   "outputs": [
    {
     "name": "stdout",
     "output_type": "stream",
     "text": [
      "torch.Size([200, 64, 5, 5])\n"
     ]
    },
    {
     "ename": "RuntimeError",
     "evalue": "shape '[-1, 1568]' is invalid for input of size 320000",
     "output_type": "error",
     "traceback": [
      "\u001b[0;31m--------------\u001b[0m",
      "\u001b[0;31mRuntimeError\u001b[0mTraceback (most recent call last)",
      "\u001b[0;32m<ipython-input-8-162d656cffc1>\u001b[0m in \u001b[0;36m<module>\u001b[0;34m\u001b[0m\n\u001b[1;32m      1\u001b[0m \u001b[0;31m# Treinamento por 400 Épocas\u001b[0m\u001b[0;34m\u001b[0m\u001b[0;34m\u001b[0m\u001b[0;34m\u001b[0m\u001b[0m\n\u001b[0;32m----> 2\u001b[0;31m \u001b[0mbest_model\u001b[0m\u001b[0;34m,\u001b[0m \u001b[0mtrain_losses\u001b[0m\u001b[0;34m,\u001b[0m \u001b[0mtest_acc\u001b[0m \u001b[0;34m=\u001b[0m \u001b[0mtrain_model\u001b[0m\u001b[0;34m(\u001b[0m\u001b[0mmodel\u001b[0m\u001b[0;34m,\u001b[0m \u001b[0;36m400\u001b[0m\u001b[0;34m,\u001b[0m \u001b[0mtrain\u001b[0m\u001b[0;34m,\u001b[0m \u001b[0mtest\u001b[0m\u001b[0;34m)\u001b[0m\u001b[0;34m\u001b[0m\u001b[0;34m\u001b[0m\u001b[0m\n\u001b[0m",
      "\u001b[0;32m<ipython-input-7-184b2bb0e16c>\u001b[0m in \u001b[0;36mtrain_model\u001b[0;34m(model, epochs, train, test)\u001b[0m\n\u001b[1;32m     27\u001b[0m         \u001b[0;32mfor\u001b[0m \u001b[0mi\u001b[0m\u001b[0;34m,\u001b[0m \u001b[0;34m(\u001b[0m\u001b[0minputs\u001b[0m\u001b[0;34m,\u001b[0m \u001b[0mlabels\u001b[0m\u001b[0;34m)\u001b[0m \u001b[0;32min\u001b[0m \u001b[0menumerate\u001b[0m\u001b[0;34m(\u001b[0m\u001b[0mzip\u001b[0m\u001b[0;34m(\u001b[0m\u001b[0mtrain_inputs\u001b[0m\u001b[0;34m,\u001b[0m \u001b[0mtrain_labels\u001b[0m\u001b[0;34m)\u001b[0m\u001b[0;34m,\u001b[0m \u001b[0;36m0\u001b[0m\u001b[0;34m)\u001b[0m\u001b[0;34m:\u001b[0m\u001b[0;34m\u001b[0m\u001b[0;34m\u001b[0m\u001b[0m\n\u001b[1;32m     28\u001b[0m             \u001b[0moptimizer\u001b[0m\u001b[0;34m.\u001b[0m\u001b[0mzero_grad\u001b[0m\u001b[0;34m(\u001b[0m\u001b[0;34m)\u001b[0m\u001b[0;34m\u001b[0m\u001b[0;34m\u001b[0m\u001b[0m\n\u001b[0;32m---> 29\u001b[0;31m             \u001b[0my_pred\u001b[0m \u001b[0;34m=\u001b[0m \u001b[0mmodel\u001b[0m\u001b[0;34m(\u001b[0m\u001b[0minputs\u001b[0m\u001b[0;34m)\u001b[0m\u001b[0;34m\u001b[0m\u001b[0;34m\u001b[0m\u001b[0m\n\u001b[0m\u001b[1;32m     30\u001b[0m             \u001b[0mloss\u001b[0m \u001b[0;34m=\u001b[0m \u001b[0mloss_fn\u001b[0m\u001b[0;34m(\u001b[0m\u001b[0my_pred\u001b[0m\u001b[0;34m,\u001b[0m \u001b[0mlabels\u001b[0m\u001b[0;34m)\u001b[0m\u001b[0;34m\u001b[0m\u001b[0;34m\u001b[0m\u001b[0m\n\u001b[1;32m     31\u001b[0m             \u001b[0mloss\u001b[0m\u001b[0;34m.\u001b[0m\u001b[0mbackward\u001b[0m\u001b[0;34m(\u001b[0m\u001b[0;34m)\u001b[0m\u001b[0;34m\u001b[0m\u001b[0;34m\u001b[0m\u001b[0m\n",
      "\u001b[0;32m~/anaconda3/lib/python3.7/site-packages/torch/nn/modules/module.py\u001b[0m in \u001b[0;36m__call__\u001b[0;34m(self, *input, **kwargs)\u001b[0m\n\u001b[1;32m    487\u001b[0m             \u001b[0mresult\u001b[0m \u001b[0;34m=\u001b[0m \u001b[0mself\u001b[0m\u001b[0;34m.\u001b[0m\u001b[0m_slow_forward\u001b[0m\u001b[0;34m(\u001b[0m\u001b[0;34m*\u001b[0m\u001b[0minput\u001b[0m\u001b[0;34m,\u001b[0m \u001b[0;34m**\u001b[0m\u001b[0mkwargs\u001b[0m\u001b[0;34m)\u001b[0m\u001b[0;34m\u001b[0m\u001b[0;34m\u001b[0m\u001b[0m\n\u001b[1;32m    488\u001b[0m         \u001b[0;32melse\u001b[0m\u001b[0;34m:\u001b[0m\u001b[0;34m\u001b[0m\u001b[0;34m\u001b[0m\u001b[0m\n\u001b[0;32m--> 489\u001b[0;31m             \u001b[0mresult\u001b[0m \u001b[0;34m=\u001b[0m \u001b[0mself\u001b[0m\u001b[0;34m.\u001b[0m\u001b[0mforward\u001b[0m\u001b[0;34m(\u001b[0m\u001b[0;34m*\u001b[0m\u001b[0minput\u001b[0m\u001b[0;34m,\u001b[0m \u001b[0;34m**\u001b[0m\u001b[0mkwargs\u001b[0m\u001b[0;34m)\u001b[0m\u001b[0;34m\u001b[0m\u001b[0;34m\u001b[0m\u001b[0m\n\u001b[0m\u001b[1;32m    490\u001b[0m         \u001b[0;32mfor\u001b[0m \u001b[0mhook\u001b[0m \u001b[0;32min\u001b[0m \u001b[0mself\u001b[0m\u001b[0;34m.\u001b[0m\u001b[0m_forward_hooks\u001b[0m\u001b[0;34m.\u001b[0m\u001b[0mvalues\u001b[0m\u001b[0;34m(\u001b[0m\u001b[0;34m)\u001b[0m\u001b[0;34m:\u001b[0m\u001b[0;34m\u001b[0m\u001b[0;34m\u001b[0m\u001b[0m\n\u001b[1;32m    491\u001b[0m             \u001b[0mhook_result\u001b[0m \u001b[0;34m=\u001b[0m \u001b[0mhook\u001b[0m\u001b[0;34m(\u001b[0m\u001b[0mself\u001b[0m\u001b[0;34m,\u001b[0m \u001b[0minput\u001b[0m\u001b[0;34m,\u001b[0m \u001b[0mresult\u001b[0m\u001b[0;34m)\u001b[0m\u001b[0;34m\u001b[0m\u001b[0;34m\u001b[0m\u001b[0m\n",
      "\u001b[0;32m<ipython-input-5-9526b2cc7121>\u001b[0m in \u001b[0;36mforward\u001b[0;34m(self, x)\u001b[0m\n\u001b[1;32m     28\u001b[0m         \u001b[0mx\u001b[0m \u001b[0;34m=\u001b[0m \u001b[0mself\u001b[0m\u001b[0;34m.\u001b[0m\u001b[0mpool\u001b[0m\u001b[0;34m(\u001b[0m\u001b[0mx\u001b[0m\u001b[0;34m)\u001b[0m\u001b[0;34m\u001b[0m\u001b[0;34m\u001b[0m\u001b[0m\n\u001b[1;32m     29\u001b[0m         \u001b[0mprint\u001b[0m\u001b[0;34m(\u001b[0m\u001b[0mx\u001b[0m\u001b[0;34m.\u001b[0m\u001b[0msize\u001b[0m\u001b[0;34m(\u001b[0m\u001b[0;34m)\u001b[0m\u001b[0;34m)\u001b[0m\u001b[0;34m\u001b[0m\u001b[0;34m\u001b[0m\u001b[0m\n\u001b[0;32m---> 30\u001b[0;31m         \u001b[0mx\u001b[0m \u001b[0;34m=\u001b[0m \u001b[0mx\u001b[0m\u001b[0;34m.\u001b[0m\u001b[0mview\u001b[0m\u001b[0;34m(\u001b[0m\u001b[0;34m-\u001b[0m\u001b[0;36m1\u001b[0m\u001b[0;34m,\u001b[0m \u001b[0;36m32\u001b[0m\u001b[0;34m*\u001b[0m\u001b[0;36m7\u001b[0m\u001b[0;34m*\u001b[0m\u001b[0;36m7\u001b[0m\u001b[0;34m)\u001b[0m\u001b[0;34m\u001b[0m\u001b[0;34m\u001b[0m\u001b[0m\n\u001b[0m\u001b[1;32m     31\u001b[0m \u001b[0;34m\u001b[0m\u001b[0m\n\u001b[1;32m     32\u001b[0m         \u001b[0mx\u001b[0m \u001b[0;34m=\u001b[0m \u001b[0mself\u001b[0m\u001b[0;34m.\u001b[0m\u001b[0mfc_dropout\u001b[0m\u001b[0;34m(\u001b[0m\u001b[0mself\u001b[0m\u001b[0;34m.\u001b[0m\u001b[0mrelu\u001b[0m\u001b[0;34m(\u001b[0m\u001b[0mself\u001b[0m\u001b[0;34m.\u001b[0m\u001b[0mfc1\u001b[0m\u001b[0;34m(\u001b[0m\u001b[0mx\u001b[0m\u001b[0;34m)\u001b[0m\u001b[0;34m)\u001b[0m\u001b[0;34m)\u001b[0m\u001b[0;34m\u001b[0m\u001b[0;34m\u001b[0m\u001b[0m\n",
      "\u001b[0;31mRuntimeError\u001b[0m: shape '[-1, 1568]' is invalid for input of size 320000"
     ]
    }
   ],
   "source": [
    "# Treinamento por 400 Épocas\n",
    "best_model, train_losses, test_acc = train_model(model, 400, train, test)"
   ]
  },
  {
   "cell_type": "code",
   "execution_count": null,
   "metadata": {
    "colab": {
     "base_uri": "https://localhost:8080/",
     "height": 577
    },
    "colab_type": "code",
    "executionInfo": {
     "elapsed": 973548,
     "status": "ok",
     "timestamp": 1555804972955,
     "user": {
      "displayName": "Ihan Bender",
      "photoUrl": "",
      "userId": "09326755177320215938"
     },
     "user_tz": 180
    },
    "id": "9i0RiPxGnHER",
    "outputId": "7bb24264-a24a-4234-e2ae-82711cf79b96"
   },
   "outputs": [],
   "source": [
    "import matplotlib.pyplot as plt\n",
    "plt.title(\"Cross Entropy durante o Treinamento\")\n",
    "plt.tight_layout()\n",
    "_ = plt.plot(train_losses)\n",
    "plt.show()\n",
    "\n",
    "plt.title(\"Accuracia durante o Treinamento\")\n",
    "plt.tight_layout()\n",
    "_ = plt.plot(test_acc)\n",
    "plt.show()"
   ]
  },
  {
   "cell_type": "code",
   "execution_count": null,
   "metadata": {
    "colab": {},
    "colab_type": "code",
    "id": "01Tt80TJnHEU"
   },
   "outputs": [],
   "source": [
    "def evaluate(model, dataset, batch_size):\n",
    "  inputs_list, labels_list = [], []\n",
    "  for _, (inputs, labels) in enumerate(dataset):\n",
    "      inputs_list.append(inputs.to(device))\n",
    "      labels_list.append(labels.to(device))\n",
    "    \n",
    "  hits = 0\n",
    "  for i, (inputs, labels) in enumerate(zip(inputs_list, labels_list), 0):\n",
    "      y_pred = model(inputs)\n",
    "      for i, (pred, label) in enumerate(zip(y_pred, labels)):\n",
    "          if one_hot(pred)==label.item():\n",
    "              hits+=1\n",
    "  return hits / (len(dataset) * batch_size) * 100"
   ]
  },
  {
   "cell_type": "markdown",
   "metadata": {
    "colab_type": "text",
    "id": "ORT70P_HnHEa"
   },
   "source": [
    "# Avaliação do Modelo no dataset de Treino"
   ]
  },
  {
   "cell_type": "code",
   "execution_count": null,
   "metadata": {
    "colab": {
     "base_uri": "https://localhost:8080/",
     "height": 34
    },
    "colab_type": "code",
    "executionInfo": {
     "elapsed": 981477,
     "status": "ok",
     "timestamp": 1555804980895,
     "user": {
      "displayName": "Ihan Bender",
      "photoUrl": "",
      "userId": "09326755177320215938"
     },
     "user_tz": 180
    },
    "id": "67HW1F6qnHEb",
    "outputId": "0da03472-37d8-43f8-d860-8329cfc7a267"
   },
   "outputs": [],
   "source": [
    "print(evaluate(model, train, 200))"
   ]
  },
  {
   "cell_type": "markdown",
   "metadata": {
    "colab_type": "text",
    "id": "c8Xu6D4znHEd"
   },
   "source": [
    "# Avaliação do Modelo no dataset de teste"
   ]
  },
  {
   "cell_type": "code",
   "execution_count": null,
   "metadata": {
    "colab": {
     "base_uri": "https://localhost:8080/",
     "height": 34
    },
    "colab_type": "code",
    "executionInfo": {
     "elapsed": 981693,
     "status": "ok",
     "timestamp": 1555804981123,
     "user": {
      "displayName": "Ihan Bender",
      "photoUrl": "",
      "userId": "09326755177320215938"
     },
     "user_tz": 180
    },
    "id": "kNDO4K7FnHEf",
    "outputId": "34c44b74-a3bf-4f1e-b01f-891f0fa9ffbf"
   },
   "outputs": [],
   "source": [
    "print(evaluate(model, test, 1000))"
   ]
  },
  {
   "cell_type": "markdown",
   "metadata": {
    "colab_type": "text",
    "id": "VIeUfbSeroSz"
   },
   "source": [
    "# Validação do Modelo (conjunto de validação)"
   ]
  },
  {
   "cell_type": "code",
   "execution_count": null,
   "metadata": {
    "colab": {
     "base_uri": "https://localhost:8080/",
     "height": 34
    },
    "colab_type": "code",
    "executionInfo": {
     "elapsed": 981927,
     "status": "ok",
     "timestamp": 1555804981364,
     "user": {
      "displayName": "Ihan Bender",
      "photoUrl": "",
      "userId": "09326755177320215938"
     },
     "user_tz": 180
    },
    "id": "WSY1Kjdart8J",
    "outputId": "321248fc-65f6-4d31-f142-e56cd3545b18"
   },
   "outputs": [],
   "source": [
    "print(evaluate(model, validation, 1000))"
   ]
  }
 ],
 "metadata": {
  "accelerator": "GPU",
  "colab": {
   "collapsed_sections": [],
   "name": "03 - CNN.ipynb",
   "provenance": [],
   "version": "0.3.2"
  },
  "kernelspec": {
   "display_name": "Python 3",
   "language": "python",
   "name": "python3"
  },
  "language_info": {
   "codemirror_mode": {
    "name": "ipython",
    "version": 3
   },
   "file_extension": ".py",
   "mimetype": "text/x-python",
   "name": "python",
   "nbconvert_exporter": "python",
   "pygments_lexer": "ipython3",
   "version": "3.7.1"
  }
 },
 "nbformat": 4,
 "nbformat_minor": 1
}
